{
 "cells": [
  {
   "cell_type": "code",
   "execution_count": null,
   "id": "f9dd9143-d126-4b47-925e-82208d30e294",
   "metadata": {},
   "outputs": [],
   "source": [
    "# 1. Load Metrics\n",
    "import joblib\n",
    "import pandas as pd\n",
    "import matplotlib.pyplot as plt\n",
    "import seaborn as sns\n",
    "from sklearn.metrics import precision_recall_curve, confusion_matrix\n",
    "\n",
    "from src.model_training import load_data\n",
    "from src.model_utils import evaluate_model\n",
    "\n",
    "prefix = \"ecom\"  # or \"bank\"\n",
    "X_train, y_train, X_test, y_test = load_data(prefix)\n",
    "\n",
    "model_logreg = joblib.load(f\"models/{prefix}_logreg.pkl\")\n",
    "model_xgb = joblib.load(f\"models/{prefix}_xgb.pkl\")\n",
    "\n",
    "# 2. Predictions and Metrics\n",
    "models = {\"Logistic Regression\": model_logreg, \"XGBoost\": model_xgb}\n",
    "results = {}\n",
    "\n",
    "for name, model in models.items():\n",
    "    y_pred = model.predict(X_test)\n",
    "    y_prob = model.predict_proba(X_test)[:, 1]\n",
    "    results[name] = evaluate_model(y_test, y_pred, y_prob)\n",
    "\n",
    "# 3. Precision-Recall Curve\n",
    "plt.figure(figsize=(8, 6))\n",
    "for name, model in models.items():\n",
    "    y_prob = model.predict_proba(X_test)[:, 1]\n",
    "    precision, recall, _ = precision_recall_curve(y_test, y_prob)\n",
    "    plt.plot(recall, precision, label=f\"{name}\")\n",
    "plt.xlabel(\"Recall\")\n",
    "plt.ylabel(\"Precision\")\n",
    "plt.title(\"Precision-Recall Curve\")\n",
    "plt.legend()\n",
    "plt.grid()\n",
    "plt.savefig(f\"models/{prefix}_pr_curve.png\")\n",
    "plt.show()\n",
    "\n",
    "# 4. Confusion Matrices\n",
    "for name, result in results.items():\n",
    "    cm = result[\"Confusion Matrix\"]\n",
    "    plt.figure()\n",
    "    sns.heatmap(cm, annot=True, fmt='d', cmap='Blues')\n",
    "    plt.title(f\"{name} Confusion Matrix\")\n",
    "    plt.xlabel(\"Predicted\")\n",
    "    plt.ylabel(\"Actual\")\n",
    "    plt.savefig(f\"models/{prefix}_{name.lower().replace(' ', '_')}_cm.png\")\n",
    "    plt.show()\n",
    "\n",
    "# 5. Final Justification\n",
    "best_model = max(results.items(), key=lambda x: x[1]['AUC-PR'])[0]\n",
    "print(f\"✅ Recommended Model for {prefix.upper()} Dataset: {best_model}\")\n"
   ]
  }
 ],
 "metadata": {
  "kernelspec": {
   "display_name": "Python 3 (ipykernel)",
   "language": "python",
   "name": "python3"
  },
  "language_info": {
   "codemirror_mode": {
    "name": "ipython",
    "version": 3
   },
   "file_extension": ".py",
   "mimetype": "text/x-python",
   "name": "python",
   "nbconvert_exporter": "python",
   "pygments_lexer": "ipython3",
   "version": "3.13.5"
  }
 },
 "nbformat": 4,
 "nbformat_minor": 5
}

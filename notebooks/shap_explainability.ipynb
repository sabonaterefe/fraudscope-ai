{
 "cells": [
  {
   "cell_type": "code",
   "execution_count": null,
   "id": "8b38c1b8-edb6-404e-8c3e-d44c2abf705f",
   "metadata": {},
   "outputs": [],
   "source": [
    "# 1. Load model and data\n",
    "import shap\n",
    "import pandas as pd\n",
    "import joblib\n",
    "import matplotlib.pyplot as plt\n",
    "\n",
    "prefix = \"ecom\"  # or \"bank\"\n",
    "model = joblib.load(f\"models/{prefix}_xgb.pkl\")  # assuming XGB is selected\n",
    "X_test = pd.read_csv(f\"data/processed/{prefix}_X_test.csv\")\n",
    "\n",
    "# 2. SHAP Explainability\n",
    "explainer = shap.Explainer(model, X_test)\n",
    "shap_values = explainer(X_test)\n",
    "\n",
    "# 3. Global Summary Plot\n",
    "shap.summary_plot(shap_values, X_test, show=False)\n",
    "plt.savefig(f\"models/{prefix}_shap_summary_plot.png\")\n",
    "\n",
    "# 4. Local Force Plot\n",
    "force_plot = shap.force_plot(explainer.expected_value, shap_values[0], X_test.iloc[0], matplotlib=True)\n",
    "plt.savefig(f\"models/{prefix}_shap_force_plot.png\")\n",
    "\n",
    "# 5. Interpretation\n",
    "# In markdown:\n",
    "\"\"\"\n",
    "## Insights\n",
    "- Features like `Time_Since_Signup`, `Country_Mismatch`, and `Transaction_Amount` have strong contributions.\n",
    "- High SHAP values indicate increased fraud likelihood.\n",
    "- The force plot shows how individual feature values tilt predictions toward fraudulent classification.\n",
    "\"\"\"\n"
   ]
  }
 ],
 "metadata": {
  "kernelspec": {
   "display_name": "Python 3 (ipykernel)",
   "language": "python",
   "name": "python3"
  },
  "language_info": {
   "codemirror_mode": {
    "name": "ipython",
    "version": 3
   },
   "file_extension": ".py",
   "mimetype": "text/x-python",
   "name": "python",
   "nbconvert_exporter": "python",
   "pygments_lexer": "ipython3",
   "version": "3.13.5"
  }
 },
 "nbformat": 4,
 "nbformat_minor": 5
}
